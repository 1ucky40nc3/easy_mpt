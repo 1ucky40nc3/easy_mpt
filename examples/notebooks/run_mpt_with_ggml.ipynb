{
  "cells": [
    {
      "attachments": {},
      "cell_type": "markdown",
      "metadata": {},
      "source": [
        "Copyright 2023 Louis Wendler\n",
        "\n",
        "Licensed under the Apache License, Version 2.0 (the \"License\");\n",
        "you may not use this file except in compliance with the License.\n",
        "You may obtain a copy of the License at\n",
        "\n",
        "    http://www.apache.org/licenses/LICENSE-2.0\n",
        "\n",
        "Unless required by applicable law or agreed to in writing, software\n",
        "distributed under the License is distributed on an \"AS IS\" BASIS,\n",
        "WITHOUT WARRANTIES OR CONDITIONS OF ANY KIND, either express or implied.\n",
        "See the License for the specific language governing permissions and\n",
        "limitations under the License."
      ]
    },
    {
      "attachments": {},
      "cell_type": "markdown",
      "metadata": {
        "colab_type": "text",
        "id": "view-in-github"
      },
      "source": [
        "<a href=\"https://colab.research.google.com/github/1ucky40nc3/easy_mpt/blob/main/examples/notebooks/run_mpt_with_ggml.ipynb\" target=\"_parent\"><img src=\"https://colab.research.google.com/assets/colab-badge.svg\" alt=\"Open In Colab\"/></a>"
      ]
    },
    {
      "cell_type": "code",
      "execution_count": null,
      "metadata": {
        "id": "eSeG_8mjww_Q"
      },
      "outputs": [],
      "source": [
        "# @title Install Requirements\n",
        "!pip install einops\n",
        "!pip install transformers\n",
        "!pip install accelerate\n",
        "!pip install sentencepiece\n",
        "\n",
        "!git lfs install"
      ]
    },
    {
      "cell_type": "code",
      "execution_count": null,
      "metadata": {
        "id": "Tify_1vKCjpW"
      },
      "outputs": [],
      "source": [
        "# @title Clone the ggml Repository\n",
        "!git clone https://github.com/ggerganov/ggml"
      ]
    },
    {
      "cell_type": "code",
      "execution_count": null,
      "metadata": {
        "id": "kXiJNQvuu6Z5"
      },
      "outputs": [],
      "source": [
        "# @title Build the ggml MPT Features\n",
        "!mkdir -p /content/ggml/build\n",
        "%cd /content/ggml/build\n",
        "!cmake ..\n",
        "!make -j4 mpt mpt-quantize"
      ]
    },
    {
      "cell_type": "code",
      "execution_count": null,
      "metadata": {
        "id": "T7mzuZkpyM7e"
      },
      "outputs": [],
      "source": [
        "# @title Download the `mosaicml/mpt-7b-instruct` PLM\n",
        "!mkdir -p /content/models\n",
        "%cd /content/models\n",
        "!git clone https://huggingface.co/mosaicml/mpt-7b-instruct"
      ]
    },
    {
      "cell_type": "code",
      "execution_count": null,
      "metadata": {
        "id": "pU1Om3Hexfuz"
      },
      "outputs": [],
      "source": [
        "# @title Convert the PLM into the ggml Format\n",
        "%cd /content/ggml/build\n",
        "!python ../examples/mpt/convert-h5-to-ggml.py /content/models/mpt-7b-instruct 0"
      ]
    },
    {
      "cell_type": "code",
      "execution_count": null,
      "metadata": {
        "id": "rkAM1ZsuwGCS"
      },
      "outputs": [],
      "source": [
        "# @title Quantize the PLM\n",
        "%cd /content/ggml/build\n",
        "!./bin/mpt-quantize \\\n",
        "    /content/models/mpt-7b-instruct/ggml-model-f32.bin \\\n",
        "    /content/models/mpt-7b-instruct/model-quant.bin \\\n",
        "    q4_0"
      ]
    },
    {
      "cell_type": "code",
      "execution_count": null,
      "metadata": {
        "id": "SQ9S2caAvmWS"
      },
      "outputs": [],
      "source": [
        "# @title Do some Inference\n",
        "%cd /content/ggml/build\n",
        "!./bin/mpt \\\n",
        "    -m /content/models/mpt-7b-instruct/model-quant.bin \\\n",
        "    -p \"Create a list of funny memes.\""
      ]
    },
    {
      "cell_type": "code",
      "execution_count": null,
      "metadata": {
        "id": "S_di1Ggzx5KL"
      },
      "outputs": [],
      "source": []
    }
  ],
  "metadata": {
    "colab": {
      "authorship_tag": "ABX9TyNHHM8z6Vzo0hQkEqaVOTSd",
      "include_colab_link": true,
      "machine_shape": "hm",
      "provenance": []
    },
    "kernelspec": {
      "display_name": "Python 3",
      "name": "python3"
    },
    "language_info": {
      "name": "python"
    }
  },
  "nbformat": 4,
  "nbformat_minor": 0
}
