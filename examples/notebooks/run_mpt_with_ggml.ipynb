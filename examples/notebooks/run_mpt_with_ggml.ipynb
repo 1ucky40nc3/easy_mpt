{
  "nbformat": 4,
  "nbformat_minor": 0,
  "metadata": {
    "colab": {
      "provenance": [],
      "machine_shape": "hm",
      "authorship_tag": "ABX9TyNHHM8z6Vzo0hQkEqaVOTSd",
      "include_colab_link": true
    },
    "kernelspec": {
      "name": "python3",
      "display_name": "Python 3"
    },
    "language_info": {
      "name": "python"
    }
  },
  "cells": [
    {
      "cell_type": "markdown",
      "metadata": {
        "id": "view-in-github",
        "colab_type": "text"
      },
      "source": [
        "<a href=\"https://colab.research.google.com/github/1ucky40nc3/easy_mpt/blob/main/examples/notebooks/run_mpt_with_ggml.ipynb\" target=\"_parent\"><img src=\"https://colab.research.google.com/assets/colab-badge.svg\" alt=\"Open In Colab\"/></a>"
      ]
    },
    {
      "cell_type": "code",
      "source": [
        "# @title Install Requirements\n",
        "!pip install einops\n",
        "!pip install transformers\n",
        "!pip install accelerate\n",
        "!pip install sentencepiece\n",
        "\n",
        "!git lfs install"
      ],
      "metadata": {
        "id": "eSeG_8mjww_Q"
      },
      "execution_count": null,
      "outputs": []
    },
    {
      "cell_type": "code",
      "source": [
        "# @title Clone the ggml Repository\n",
        "!git clone https://github.com/ggerganov/ggml"
      ],
      "metadata": {
        "id": "Tify_1vKCjpW"
      },
      "execution_count": null,
      "outputs": []
    },
    {
      "cell_type": "code",
      "source": [
        "# @title Build the ggml MPT Features\n",
        "!mkdir -p /content/ggml/build\n",
        "%cd /content/ggml/build\n",
        "!cmake ..\n",
        "!make -j4 mpt mpt-quantize"
      ],
      "metadata": {
        "id": "kXiJNQvuu6Z5"
      },
      "execution_count": null,
      "outputs": []
    },
    {
      "cell_type": "code",
      "source": [
        "# @title Download the `mosaicml/mpt-7b-instruct` PLM\n",
        "!mkdir -p /content/models\n",
        "%cd /content/models\n",
        "!git clone https://huggingface.co/mosaicml/mpt-7b-instruct"
      ],
      "metadata": {
        "id": "T7mzuZkpyM7e"
      },
      "execution_count": null,
      "outputs": []
    },
    {
      "cell_type": "code",
      "source": [
        "# @title Convert the PLM into the ggml Format\n",
        "%cd /content/ggml/build\n",
        "!python ../examples/mpt/convert-h5-to-ggml.py /content/models/mpt-7b-instruct 0"
      ],
      "metadata": {
        "id": "pU1Om3Hexfuz"
      },
      "execution_count": null,
      "outputs": []
    },
    {
      "cell_type": "code",
      "source": [
        "# @title Quantize the PLM\n",
        "%cd /content/ggml/build\n",
        "!./bin/mpt-quantize \\\n",
        "    /content/models/mpt-7b-instruct/ggml-model-f32.bin \\\n",
        "    /content/models/mpt-7b-instruct/model-quant.bin \\\n",
        "    q4_0"
      ],
      "metadata": {
        "id": "rkAM1ZsuwGCS"
      },
      "execution_count": null,
      "outputs": []
    },
    {
      "cell_type": "code",
      "source": [
        "# @title Do some Inference\n",
        "%cd /content/ggml/build\n",
        "!./bin/mpt \\\n",
        "    -m /content/models/mpt-7b-instruct/model-quant.bin \\\n",
        "    -p \"Create a list of funny memes.\""
      ],
      "metadata": {
        "id": "SQ9S2caAvmWS"
      },
      "execution_count": null,
      "outputs": []
    },
    {
      "cell_type": "code",
      "source": [],
      "metadata": {
        "id": "S_di1Ggzx5KL"
      },
      "execution_count": null,
      "outputs": []
    }
  ]
}